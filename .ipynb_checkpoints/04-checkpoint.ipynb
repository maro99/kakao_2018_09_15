{
 "cells": [
  {
   "cell_type": "code",
   "execution_count": 3,
   "metadata": {},
   "outputs": [
    {
     "ename": "SyntaxError",
     "evalue": "invalid syntax (<ipython-input-3-52f5858affe3>, line 1)",
     "output_type": "error",
     "traceback": [
      "\u001b[0;36m  File \u001b[0;32m\"<ipython-input-3-52f5858affe3>\"\u001b[0;36m, line \u001b[0;32m1\u001b[0m\n\u001b[0;31m    무지의 먹방 라이브\u001b[0m\n\u001b[0m         ^\u001b[0m\n\u001b[0;31mSyntaxError\u001b[0m\u001b[0;31m:\u001b[0m invalid syntax\n"
     ]
    }
   ],
   "source": [
    "무지의 먹방 라이브\n",
    "* 효율성 테스트에 부분 점수가 있는 문제입니다.\n",
    "\n",
    "평소 식욕이 왕성한 무지는 자신의 재능을 뽐내고 싶어 졌고 고민 끝에 카카오 TV 라이브로 방송을 하기로 마음먹었다.\n",
    "\n",
    "muji_live.png\n",
    "\n",
    "그냥 먹방을 하면 다른 방송과 차별성이 없기 때문에 무지는 아래와 같이 독특한 방식을 생각해냈다.\n",
    "\n",
    "회전판에 먹어야 할 N 개의 음식이 있다. \n",
    "각 음식에는 1부터 N 까지 번호가 붙어있으며, 각 음식을 섭취하는데 일정 시간이 소요된다. \n",
    "무지는 다음과 같은 방법으로 음식을 섭취한다.\n",
    "\n",
    "무지는 1번 음식부터 먹기 시작하며, 회전판은 번호가 증가하는 순서대로 음식을 무지 앞으로 가져다 놓는다.\n",
    "마지막 번호의 음식을 섭취한 후에는 회전판에 의해 다시 1번 음식이 무지 앞으로 온다.\n",
    "무지는 음식 하나를 1초 동안 섭취한 후 남은 음식은 그대로 두고, 다음 음식을 섭취한다.\n",
    "다음 음식이란, 아직 남은 음식 중 다음으로 섭취해야 할 가장 가까운 번호의 음식을 말한다.\n",
    "회전판이 다음 음식을 무지 앞으로 가져오는데 걸리는 시간은 없다고 가정한다.\n",
    "무지가 먹방을 시작한 지 K 초 후에 네트워크 장애로 인해 방송이 잠시 중단되었다.\n",
    "무지는 네트워크 정상화 후 다시 방송을 이어갈 때, 몇 번 음식부터 섭취해야 하는지를 알고자 한다. \n",
    "각 음식을 모두 먹는데 필요한 시간이 담겨있는 배열 food_times, 네트워크 장애가 발생한 시간 K 초가 매개변수로 주어질 때 몇 번 음식부터 다시 섭취하면 되는지 return 하도록 solution 함수를 완성하라.\n",
    "\n",
    "제한사항\n",
    "food_times 는 각 음식을 모두 먹는데 필요한 시간이 음식의 번호 순서대로 들어있는 배열이다.\n",
    "k 는 방송이 중단된 시간을 나타낸다.\n",
    "만약 더 섭취해야 할 음식이 없다면 -1을 반환하면 된다.\n",
    "정확성 테스트 제한 사항\n",
    "food_times 의 길이는 1 이상 2,000 이하이다.\n",
    "food_times 의 원소는 1 이상 1,000 이하의 자연수이다.\n",
    "k는 1 이상 2,000,000 이하의 자연수이다.\n",
    "효율성 테스트 제한 사항\n",
    "food_times 의 길이는 1 이상 200,000 이하이다.\n",
    "food_times 의 원소는 1 이상 100,000,000 이하의 자연수이다.\n",
    "k는 1 이상 2 x 10^13 이하의 자연수이다.\n",
    "입출력 예\n",
    "food_times\tk\tresult\n",
    "[3, 1, 2]\t5\t1\n",
    "입출력 예 설명\n",
    "입출력 예 #1\n",
    "\n",
    "0~1초 동안에 1번 음식을 섭취한다. 남은 시간은 [2,1,2] 이다.\n",
    "1~2초 동안 2번 음식을 섭취한다. 남은 시간은 [2,0,2] 이다.\n",
    "2~3초 동안 3번 음식을 섭취한다. 남은 시간은 [2,0,1] 이다.\n",
    "3~4초 동안 1번 음식을 섭취한다. 남은 시간은 [1,0,1] 이다.\n",
    "4~5초 동안 (2번 음식은 다 먹었으므로) 3번 음식을 섭취한다. 남은 시간은 [1,0,0] 이다.\n",
    "5초에서 네트워크 장애가 발생했다. 1번 음식을 섭취해야 할 때 중단되었으므로, 장애 복구 후에 1번 음식부터 다시 먹기 시작하면 된다."
   ]
  },
  {
   "cell_type": "code",
   "execution_count": null,
   "metadata": {},
   "outputs": [],
   "source": []
  },
  {
   "cell_type": "code",
   "execution_count": 54,
   "metadata": {},
   "outputs": [],
   "source": [
    "def solution(food_times, k):\n",
    "    \n",
    "    index = 0\n",
    "    length = len(food_times) \n",
    "    fivot = 1\n",
    "    \n",
    "    while k:\n",
    "        \n",
    "        \n",
    "        # 음식이 0이 아니라면 해당 index빼줌. \n",
    "        if food_times[index] !=0 :\n",
    "            food_times[index] = food_times[index] -1\n",
    "            k=k-1\n",
    "            index+=1\n",
    "            \n",
    " \n",
    "        \n",
    "        # 음식이 0이라면 index만 늘리고 넘어간다. \n",
    "        else:\n",
    "            index+=1\n",
    "            # 시간 k는 안줄어든다.\n",
    "        \n",
    "        \n",
    "        \n",
    "        # length 넘는 경우 index초기화 \n",
    "        if index >=length:\n",
    "            index = 0\n",
    "            \n",
    "        \n",
    "        summation = sum(food_times)\n",
    "        if summation == 0:\n",
    "            return -1\n",
    "\n",
    "        \n",
    "\n",
    "\n",
    "        \n",
    "    \n",
    "    \n",
    "    return index"
   ]
  },
  {
   "cell_type": "code",
   "execution_count": 57,
   "metadata": {},
   "outputs": [],
   "source": [
    "food_times = [2, 2, 1]\n",
    "k = 5\n",
    "\n",
    "result = solution(food_times, k)"
   ]
  },
  {
   "cell_type": "code",
   "execution_count": 58,
   "metadata": {},
   "outputs": [
    {
     "data": {
      "text/plain": [
       "-1"
      ]
     },
     "execution_count": 58,
     "metadata": {},
     "output_type": "execute_result"
    }
   ],
   "source": [
    "result\n"
   ]
  },
  {
   "cell_type": "code",
   "execution_count": null,
   "metadata": {},
   "outputs": [],
   "source": [
    "# k가 0이 되기 전에 모두 먹어버리는 경우에는 어떻게 loop를 탈출하겠는가?\n",
    "# ---> 전체 sum 이 0 될때 멈추자. "
   ]
  }
 ],
 "metadata": {
  "kernelspec": {
   "display_name": "Python 3",
   "language": "python",
   "name": "python3"
  },
  "language_info": {
   "codemirror_mode": {
    "name": "ipython",
    "version": 3
   },
   "file_extension": ".py",
   "mimetype": "text/x-python",
   "name": "python",
   "nbconvert_exporter": "python",
   "pygments_lexer": "ipython3",
   "version": "3.6.5"
  }
 },
 "nbformat": 4,
 "nbformat_minor": 2
}
