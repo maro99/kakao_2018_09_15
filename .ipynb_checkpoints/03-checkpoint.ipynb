{
 "cells": [
  {
   "cell_type": "code",
   "execution_count": null,
   "metadata": {},
   "outputs": [],
   "source": [
    "후보키\n",
    "프렌즈대학교 컴퓨터공학과 조교인 제이지는 네오 학과장님의 지시로, 학생들의 인적사항을 정리하는 업무를 담당하게 되었다.\n",
    "\n",
    "그의 학부 시절 프로그래밍 경험을 되살려, 모든 인적사항을 데이터베이스에 넣기로 하였고, 이를 위해 정리를 하던 중에 후보키(Candidate Key)에 대한 고민이 필요하게 되었다.\n",
    "\n",
    "후보키에 대한 내용이 잘 기억나지 않던 제이지는, 정확한 내용을 파악하기 위해 데이터베이스 관련 서적을 확인하여 아래와 같은 내용을 확인하였다.\n",
    "\n",
    "관계 데이터베이스에서 릴레이션(Relation)의 튜플(Tuple)을 유일하게 식별할 수 있는 속성(Attribute) 또는 속성의 집합 중, 다음 두 성질을 만족하는 것을 후보 키(Candidate Key)라고 한다.\n",
    "유일성(uniqueness) : 릴레이션에 있는 모든 튜플에 대해 유일하게 식별되어야 한다.\n",
    "최소성(minimality) : 유일성을 가진 키를 구성하는 속성(Attribute) 중 하나라도 제외하는 경우 유일성이 깨지는 것을 의미한다. 즉, 릴레이션의 모든 튜플을 유일하게 식별하는 데 꼭 필요한 속성들로만 구성되어야 한다.\n",
    "제이지를 위해, 아래와 같은 학생들의 인적사항이 주어졌을 때, 후보 키의 최대 개수를 구하라.\n",
    "\n",
    "cand_key1.png\n",
    "\n",
    "위의 예를 설명하면, 학생의 인적사항 릴레이션에서 모든 학생은 각자 유일한 학번을 가지고 있다. 따라서 학번은 릴레이션의 후보 키가 될 수 있다.\n",
    "그다음 이름에 대해서는 같은 이름(apeach)을 사용하는 학생이 있기 때문에, 이름은 후보 키가 될 수 없다. 그러나, 만약 [이름, 전공]을 함께 사용한다면 릴레이션의 모든 튜플을 유일하게 식별 가능하므로 후보 키가 될 수 있게 된다.\n",
    "물론 [이름, 전공, 학년]을 함께 사용해도 릴레이션의 모든 튜플을 유일하게 식별할 수 있지만, 최소성을 만족하지 못하기 때문에 후보 키가 될 수 없다.\n",
    "따라서, 위의 학생 인적사항의 후보키는 학번, [이름, 전공] 두 개가 된다.\n",
    "\n",
    "릴레이션을 나타내는 문자열 배열 relation이 매개변수로 주어질 때, 이 릴레이션에서 후보 키의 개수를 return 하도록 solution 함수를 완성하라.\n",
    "\n",
    "제한사항\n",
    "relation은 2차원 문자열 배열이다.\n",
    "relation의 컬럼(column)의 길이는 1 이상 8 이하이며, 각각의 컬럼은 릴레이션의 속성을 나타낸다.\n",
    "relation의 로우(row)의 길이는 1 이상 20 이하이며, 각각의 로우는 릴레이션의 튜플을 나타낸다.\n",
    "relation의 모든 문자열의 길이는 1 이상 8 이하이며, 알파벳 소문자와 숫자로만 이루어져 있다.\n",
    "relation의 모든 튜플은 유일하게 식별 가능하다.(즉, 중복되는 튜플은 없다.)\n",
    "입출력 예\n",
    "relation\tresult\n",
    "[[100,ryan,music,2],[200,apeach,math,2],[300,tube,computer,3],[400,con,computer,4],[500,muzi,music,3],[600,apeach,music,2]]\t2\n",
    "입출력 예 설명\n",
    "입출력 예 #1\n",
    "문제에 주어진 릴레이션과 같으며, 후보 키는 2개이다."
   ]
  },
  {
   "cell_type": "code",
   "execution_count": null,
   "metadata": {},
   "outputs": [],
   "source": []
  },
  {
   "cell_type": "code",
   "execution_count": null,
   "metadata": {},
   "outputs": [],
   "source": [
    "# 후보 키의 최대 개수를 구하라.\n",
    "\n",
    "# 최대가 1개일때\n",
    "\n"
   ]
  },
  {
   "cell_type": "code",
   "execution_count": null,
   "metadata": {},
   "outputs": [],
   "source": []
  },
  {
   "cell_type": "code",
   "execution_count": null,
   "metadata": {},
   "outputs": [],
   "source": []
  },
  {
   "cell_type": "code",
   "execution_count": null,
   "metadata": {},
   "outputs": [],
   "source": []
  },
  {
   "cell_type": "code",
   "execution_count": null,
   "metadata": {},
   "outputs": [],
   "source": [
    "# 바로위의 예제의 경우는 이렇게 가능했다. "
   ]
  },
  {
   "cell_type": "code",
   "execution_count": 87,
   "metadata": {},
   "outputs": [],
   "source": [
    "def solution(relation):\n",
    "    col_num = len(relation[0])\n",
    "    row_num = len(relation)\n",
    "    \n",
    "    # 1. 후보키가 한개의 속성으로 이루이지는지 검사.\n",
    "    \n",
    "    # 각각의 col을 각 list에 더한후 중복 제거한 것의 길이가 row_num과 같으면\n",
    "    # 그 row는 그것만으로 후보키가 될 수 있음.\n",
    "    \n",
    "    is_condidate_with_one = []\n",
    "    duplicated_list_by_col = [] # col 단위로 리스트를 일단 여기 저장 하겠슴.\n",
    "    for j in range(0, col_num):\n",
    "        \n",
    "        result_list = []\n",
    "        for i in range(0,row_num):\n",
    "            result_list.append(relation[i][j])\n",
    "        \n",
    "        duplicated_list_by_col.append(result_list)\n",
    "        if len(list(set(result_list))) ==row_num:\n",
    "            is_condidate_with_one.append(j)\n",
    "    \n",
    "    \n",
    "    \n",
    "    \n",
    "    # 2. 후보키가 두개의 속성으로 이루어 지는지 검사.\n",
    "    # duplicated_list_by_col 에 저장된 col들을 돌면서 \n",
    "    # 2개씩 짝지어서 세로운 리스트 들을 만든다. 이것이 중복되는것이 없다면 \n",
    "    # 6개 6개로된 2개의 col_list가 짝을 짓는다면 \n",
    "    \n",
    "    # 일단 위에서 is_condidate_with_one 에 해당하는 row는 빼버리자.\n",
    "    # 그것만으로 구분 가능하기 때문에 최소성에 위반됨.\n",
    "    \n",
    "\n",
    "    for index in is_condidate_with_one:\n",
    "        duplicated_list_by_col.pop(index)\n",
    "        \n",
    "    # 그런 col이 한개 이하라면? ---->아래 이하를 할 필요가 없다. 바로 리턴 하면 될듯.\n",
    "    if len(duplicated_list_by_col) <=1:\n",
    "        return len(duplicated_list_by_col)\n",
    "    \n",
    "    # 그런 col이 2개 이상인 경우.\n",
    "    is_condidate_with_two = []\n",
    "    duplicated_list_by_col2 = [] \n",
    "    for i in range(0,len(duplicated_list_by_col)-1):\n",
    "        for j in range(i+1,len(duplicated_list_by_col)):\n",
    "            \n",
    "            result_list = []\n",
    "            for k in range(0,row_num):\n",
    "                result_list.append((duplicated_list_by_col[i][k],duplicated_list_by_col[j][k]))\n",
    "            print(result_list)\n",
    "            if len(list(set(result_list))) ==row_num:\n",
    "                is_condidate_with_two.append((i,j))\n",
    "    \n",
    "        \n",
    "    \n",
    "    \n",
    "    answer = 0\n",
    "#     return is_condidate_with_two\n",
    "    \n",
    "    return len(is_condidate_with_two) + len(is_condidate_with_one)"
   ]
  },
  {
   "cell_type": "code",
   "execution_count": null,
   "metadata": {},
   "outputs": [],
   "source": []
  },
  {
   "cell_type": "code",
   "execution_count": 88,
   "metadata": {},
   "outputs": [],
   "source": [
    "relation = [[\"100\", \"ryan\", \"music\", \"2\"], [\"200\", \"apeach\", \"math\", \"2\"], [\"300\", \"tube\", \"computer\", \"3\"], [\"400\", \"con\", \"computer\", \"4\"], [\"500\", \"muzi\", \"music\", \"3\"], [\"600\", \"apeach\", \"music\", \"2\"]]"
   ]
  },
  {
   "cell_type": "code",
   "execution_count": 89,
   "metadata": {},
   "outputs": [
    {
     "name": "stdout",
     "output_type": "stream",
     "text": [
      "[('ryan', 'music'), ('apeach', 'math'), ('tube', 'computer'), ('con', 'computer'), ('muzi', 'music'), ('apeach', 'music')]\n",
      "[('ryan', '2'), ('apeach', '2'), ('tube', '3'), ('con', '4'), ('muzi', '3'), ('apeach', '2')]\n",
      "[('music', '2'), ('math', '2'), ('computer', '3'), ('computer', '4'), ('music', '3'), ('music', '2')]\n"
     ]
    },
    {
     "data": {
      "text/plain": [
       "2"
      ]
     },
     "execution_count": 89,
     "metadata": {},
     "output_type": "execute_result"
    }
   ],
   "source": [
    "solution(relation)"
   ]
  },
  {
   "cell_type": "code",
   "execution_count": null,
   "metadata": {},
   "outputs": [],
   "source": []
  },
  {
   "cell_type": "code",
   "execution_count": null,
   "metadata": {},
   "outputs": [],
   "source": []
  },
  {
   "cell_type": "code",
   "execution_count": null,
   "metadata": {},
   "outputs": [],
   "source": []
  },
  {
   "cell_type": "code",
   "execution_count": null,
   "metadata": {},
   "outputs": [],
   "source": [
    "#바로 위 말고 일반적인 경우 1x1부터  8x 20인 경우에 대해서.\n",
    "\n",
    "# 위와 다르게 아예 다른 식으로 접근해야 될것 같다.\n",
    "# 아예 Candidate Key 에 대한 정보를 찾아보고 어떻게 구하는지 알고해보자. \n",
    "# 뭔가 튜플 단위로 생각해야 할 것 같다. "
   ]
  },
  {
   "cell_type": "code",
   "execution_count": 96,
   "metadata": {},
   "outputs": [],
   "source": [
    "def solution(relation):\n",
    "    col_num = len(relation[0]) # 1~col_num\n",
    "    row_num = len(relation) # 이것과 경우가 같은지 봐서 식별.\n",
    "    \n",
    "    tuple_string_list = [] \n",
    "    for row in relation:\n",
    "        \n",
    "        result = \"\"\n",
    "        for i in row:\n",
    "            result+= i\n",
    "        tuple_string_list.append(result)\n",
    "        \n",
    "\n",
    "    is_condidate = []\n",
    "    \n",
    "    for i in range(0,row_num):\n",
    "        \n",
    "        for j in range(0,col_num):\n",
    "            # 학번,이름, 전공, 학년 으로 각각 정보를 뽑아내 봐서 길이가 row_num 보다 작으면 제외.\n",
    "            if relation[i][j] in tuple_string_list[i]:\n",
    "                \n",
    "            \n",
    "            relation\n",
    "            \n",
    "            \n",
    "            \n",
    "            \n",
    "            \n",
    "    \n",
    "    \n",
    "    \n",
    "    \n",
    "    \n",
    "    \n",
    "    \n",
    "    \n",
    "    \n",
    "    \n",
    "    \n",
    "    \n",
    "    \n",
    "    \n",
    "    \n",
    "    \n",
    "    \n",
    "    \n",
    "    \n",
    "    \n",
    "#     # 1. 후보키가 한개의 속성으로 이루이지는지 검사.\n",
    "    \n",
    "#     # 각각의 col을 각 list에 더한후 중복 제거한 것의 길이가 row_num과 같으면\n",
    "#     # 그 row는 그것만으로 후보키가 될 수 있음.\n",
    "    \n",
    "#     is_condidate_with_one = []\n",
    "#     duplicated_list_by_col = [] # col 단위로 리스트를 일단 여기 저장 하겠슴.\n",
    "#     for j in range(0, col_num):\n",
    "        \n",
    "#         result_list = []\n",
    "#         for i in range(0,row_num):\n",
    "#             result_list.append(relation[i][j])\n",
    "        \n",
    "#         duplicated_list_by_col.append(result_list)\n",
    "#         if len(list(set(result_list))) ==row_num:\n",
    "#             is_condidate_with_one.append(j)\n",
    "    \n",
    "    \n",
    "    \n",
    "    \n",
    "#     # 2. 후보키가 두개의 속성으로 이루어 지는지 검사.\n",
    "#     # duplicated_list_by_col 에 저장된 col들을 돌면서 \n",
    "#     # 2개씩 짝지어서 세로운 리스트 들을 만든다. 이것이 중복되는것이 없다면 \n",
    "#     # 6개 6개로된 2개의 col_list가 짝을 짓는다면 \n",
    "    \n",
    "#     # 일단 위에서 is_condidate_with_one 에 해당하는 row는 빼버리자.\n",
    "#     # 그것만으로 구분 가능하기 때문에 최소성에 위반됨.\n",
    "    \n",
    "\n",
    "#     for index in is_condidate_with_one:\n",
    "#         duplicated_list_by_col.pop(index)\n",
    "        \n",
    "#     # 그런 col이 한개 이하라면? ---->아래 이하를 할 필요가 없다. 바로 리턴 하면 될듯.\n",
    "#     if len(duplicated_list_by_col) <=1:\n",
    "#         return len(duplicated_list_by_col)\n",
    "    \n",
    "#     # 그런 col이 2개 이상인 경우.\n",
    "#     is_condidate_with_two = []\n",
    "#     duplicated_list_by_col2 = [] \n",
    "#     for i in range(0,len(duplicated_list_by_col)-1):\n",
    "#         for j in range(i+1,len(duplicated_list_by_col)):\n",
    "            \n",
    "#             result_list = []\n",
    "#             for k in range(0,row_num):\n",
    "#                 result_list.append((duplicated_list_by_col[i][k],duplicated_list_by_col[j][k]))\n",
    "#             print(result_list)\n",
    "#             if len(list(set(result_list))) ==row_num:\n",
    "#                 is_condidate_with_two.append((i,j))\n",
    "    \n",
    "        \n",
    "    \n",
    "    \n",
    "#     answer = 0\n",
    "# #     return is_condidate_with_two\n",
    "    \n",
    "#     return len(is_condidate_with_two) + len(is_condidate_with_one)"
   ]
  },
  {
   "cell_type": "code",
   "execution_count": 97,
   "metadata": {},
   "outputs": [],
   "source": [
    "relation = [[\"100\", \"ryan\", \"music\", \"2\"], [\"200\", \"apeach\", \"math\", \"2\"], [\"300\", \"tube\", \"computer\", \"3\"], [\"400\", \"con\", \"computer\", \"4\"], [\"500\", \"muzi\", \"music\", \"3\"], [\"600\", \"apeach\", \"music\", \"2\"]]"
   ]
  },
  {
   "cell_type": "code",
   "execution_count": 98,
   "metadata": {},
   "outputs": [
    {
     "data": {
      "text/plain": [
       "['100ryanmusic2',\n",
       " '200apeachmath2',\n",
       " '300tubecomputer3',\n",
       " '400concomputer4',\n",
       " '500muzimusic3',\n",
       " '600apeachmusic2']"
      ]
     },
     "execution_count": 98,
     "metadata": {},
     "output_type": "execute_result"
    }
   ],
   "source": [
    "solution(relation)"
   ]
  },
  {
   "cell_type": "code",
   "execution_count": 100,
   "metadata": {},
   "outputs": [
    {
     "name": "stdout",
     "output_type": "stream",
     "text": [
      "2\n"
     ]
    }
   ],
   "source": [
    "if \"100\" in \"100ryanmusic2\":\n",
    "    print(\"2\")"
   ]
  },
  {
   "cell_type": "code",
   "execution_count": null,
   "metadata": {},
   "outputs": [],
   "source": []
  }
 ],
 "metadata": {
  "kernelspec": {
   "display_name": "Python 3",
   "language": "python",
   "name": "python3"
  },
  "language_info": {
   "codemirror_mode": {
    "name": "ipython",
    "version": 3
   },
   "file_extension": ".py",
   "mimetype": "text/x-python",
   "name": "python",
   "nbconvert_exporter": "python",
   "pygments_lexer": "ipython3",
   "version": "3.6.5"
  }
 },
 "nbformat": 4,
 "nbformat_minor": 2
}
