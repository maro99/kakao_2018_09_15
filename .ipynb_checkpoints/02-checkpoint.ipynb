{
 "cells": [
  {
   "cell_type": "code",
   "execution_count": null,
   "metadata": {},
   "outputs": [],
   "source": []
  },
  {
   "cell_type": "code",
   "execution_count": null,
   "metadata": {},
   "outputs": [],
   "source": []
  },
  {
   "cell_type": "code",
   "execution_count": 165,
   "metadata": {},
   "outputs": [],
   "source": [
    "def solution(N, stages):\n",
    "    property_list = [] \n",
    "    \n",
    "    num_of_people = len(stages)\n",
    "    \n",
    "    num_stayed_people_per_stage = {}\n",
    "    counted_value = 0\n",
    "    \n",
    "    for index, person in enumerate(stages):\n",
    "        counted_value = num_stayed_people_per_stage.get(person)\n",
    "        if counted_value:\n",
    "            num_stayed_people_per_stage[person] = counted_value +1\n",
    "            continue\n",
    "            \n",
    "        num_stayed_people_per_stage[person] = 1 \n",
    "        \n",
    "    num_stayed_people_per_stage_list = []\n",
    "    for index in range(0,N+2):\n",
    "        \n",
    "        value = num_stayed_people_per_stage.get(index)\n",
    "        \n",
    "        if value:\n",
    "            num_stayed_people_per_stage_list.append(value)\n",
    "            continue\n",
    "            \n",
    "        # 여기에 각 스테이지별 머무른 사람 수.\n",
    "        num_stayed_people_per_stage_list.append(0)\n",
    "        \n",
    "        \n",
    " \n",
    "    num_of_people_passed_this_stage = [] \n",
    "    middle_sum = 0\n",
    "    for index,i in enumerate(num_stayed_people_per_stage_list):\n",
    "  \n",
    "        # 머문사람/ 도전한 사람수 ( 전체 - 이것 이전까지 더한것.)\n",
    "    \n",
    "        if num_of_people-middle_sum !=0:\n",
    "            num_of_people_passed_this_stage.append((index,(i)/(num_of_people-middle_sum)))\n",
    "            middle_sum = middle_sum + i\n",
    "            \n",
    "        # 전체 숫자가 앞에서 다 지나간 경우. 그다음 부터는 아예 못간다. 실패율 100%니 1 넣자. \n",
    "        else:\n",
    "            num_of_people_passed_this_stage.append((index,0))\n",
    "            middle_sum = middle_sum + i\n",
    "            \n",
    "        \n",
    "        \n",
    "    num_of_people_passed_this_stage.pop()\n",
    "    num_of_people_passed_this_stage.pop(0)\n",
    "\n",
    "    \n",
    "    num_of_people_passed_this_stage.sort(key=lambda x:x[1],reverse=True)\n",
    "    \n",
    "    output = []\n",
    "    \n",
    "    for i in num_of_people_passed_this_stage:\n",
    "        \n",
    "        print(type(i))\n",
    "        print(i)\n",
    "        output.append(i[0])\n",
    "    \n",
    "\n",
    "    return output"
   ]
  },
  {
   "cell_type": "code",
   "execution_count": null,
   "metadata": {},
   "outputs": [],
   "source": []
  },
  {
   "cell_type": "code",
   "execution_count": null,
   "metadata": {},
   "outputs": [],
   "source": []
  },
  {
   "cell_type": "code",
   "execution_count": 166,
   "metadata": {},
   "outputs": [
    {
     "name": "stdout",
     "output_type": "stream",
     "text": [
      "<class 'tuple'>\n",
      "(3, 0.5)\n",
      "<class 'tuple'>\n",
      "(4, 0.5)\n",
      "<class 'tuple'>\n",
      "(2, 0.42857142857142855)\n",
      "<class 'tuple'>\n",
      "(1, 0.125)\n",
      "<class 'tuple'>\n",
      "(5, 0.0)\n"
     ]
    },
    {
     "data": {
      "text/plain": [
       "[3, 4, 2, 1, 5]"
      ]
     },
     "execution_count": 166,
     "metadata": {},
     "output_type": "execute_result"
    }
   ],
   "source": [
    "N =\t5\n",
    "stages = [2, 1, 2, 6, 2, 4, 3, 3]\n",
    "solution(N, stages)"
   ]
  },
  {
   "cell_type": "code",
   "execution_count": 167,
   "metadata": {},
   "outputs": [
    {
     "name": "stdout",
     "output_type": "stream",
     "text": [
      "<class 'tuple'>\n",
      "(4, 1.0)\n",
      "<class 'tuple'>\n",
      "(1, 0.0)\n",
      "<class 'tuple'>\n",
      "(2, 0.0)\n",
      "<class 'tuple'>\n",
      "(3, 0.0)\n"
     ]
    },
    {
     "data": {
      "text/plain": [
       "[4, 1, 2, 3]"
      ]
     },
     "execution_count": 167,
     "metadata": {},
     "output_type": "execute_result"
    }
   ],
   "source": [
    "N =\t4\n",
    "stages = [4, 4, 4, 4, 4]\n",
    "solution(N, stages)"
   ]
  },
  {
   "cell_type": "code",
   "execution_count": 168,
   "metadata": {},
   "outputs": [
    {
     "name": "stdout",
     "output_type": "stream",
     "text": [
      "<class 'tuple'>\n",
      "(1, 1.0)\n",
      "<class 'tuple'>\n",
      "(2, 0)\n",
      "<class 'tuple'>\n",
      "(3, 0)\n"
     ]
    },
    {
     "data": {
      "text/plain": [
       "[1, 2, 3]"
      ]
     },
     "execution_count": 168,
     "metadata": {},
     "output_type": "execute_result"
    }
   ],
   "source": [
    "N =\t3\n",
    "stages = [1, 1, 1, 1, 1]\n",
    "solution(N, stages)"
   ]
  },
  {
   "cell_type": "code",
   "execution_count": 169,
   "metadata": {},
   "outputs": [
    {
     "name": "stdout",
     "output_type": "stream",
     "text": [
      "<class 'tuple'>\n",
      "(3, 0.5)\n",
      "<class 'tuple'>\n",
      "(2, 0.3333333333333333)\n",
      "<class 'tuple'>\n",
      "(1, 0.25)\n",
      "<class 'tuple'>\n",
      "(4, 0.0)\n"
     ]
    },
    {
     "data": {
      "text/plain": [
       "[3, 2, 1, 4]"
      ]
     },
     "execution_count": 169,
     "metadata": {},
     "output_type": "execute_result"
    }
   ],
   "source": [
    "N =\t4\n",
    "stages = [1,2,3,5]\n",
    "solution(N, stages)"
   ]
  },
  {
   "cell_type": "code",
   "execution_count": null,
   "metadata": {},
   "outputs": [],
   "source": []
  },
  {
   "cell_type": "code",
   "execution_count": null,
   "metadata": {},
   "outputs": [],
   "source": []
  },
  {
   "cell_type": "code",
   "execution_count": 157,
   "metadata": {},
   "outputs": [
    {
     "name": "stdout",
     "output_type": "stream",
     "text": [
      "<class 'tuple'>\n",
      "(4, 1.0)\n",
      "<class 'tuple'>\n",
      "(1, 0.0)\n",
      "<class 'tuple'>\n",
      "(2, 0.0)\n",
      "<class 'tuple'>\n",
      "(3, 0.0)\n"
     ]
    }
   ],
   "source": [
    "N =\t4\n",
    "stages = [4, 4, 4, 4, 4]\n",
    "solution(N, stages)\n",
    "totlanum = sum(stages)"
   ]
  },
  {
   "cell_type": "code",
   "execution_count": 5,
   "metadata": {},
   "outputs": [
    {
     "data": {
      "text/plain": [
       "20"
      ]
     },
     "execution_count": 5,
     "metadata": {},
     "output_type": "execute_result"
    }
   ],
   "source": [
    "totlanum"
   ]
  },
  {
   "cell_type": "code",
   "execution_count": 12,
   "metadata": {},
   "outputs": [],
   "source": [
    "dicta=dict()\n",
    "dicta[1]=1"
   ]
  },
  {
   "cell_type": "code",
   "execution_count": 13,
   "metadata": {},
   "outputs": [
    {
     "data": {
      "text/plain": [
       "{1: 1}"
      ]
     },
     "execution_count": 13,
     "metadata": {},
     "output_type": "execute_result"
    }
   ],
   "source": [
    "dicta"
   ]
  },
  {
   "cell_type": "code",
   "execution_count": 88,
   "metadata": {},
   "outputs": [],
   "source": [
    "lista = [0, 1, 3, 2, 1, 0, 1]\n",
    "\n",
    "num_of_people = sum(lista)\n",
    "\n",
    "num_of_people_passed_this_stage = [] \n",
    "middle_sum = 0\n",
    "for i in lista:\n",
    "    middle_sum = middle_sum + i \n",
    "    num_of_people_passed_this_stage.append(num_of_people - middle_sum)\n",
    "    \n",
    "    \n",
    "    \n",
    "    "
   ]
  },
  {
   "cell_type": "code",
   "execution_count": 89,
   "metadata": {},
   "outputs": [
    {
     "data": {
      "text/plain": [
       "[8, 7, 4, 2, 1, 1, 0]"
      ]
     },
     "execution_count": 89,
     "metadata": {},
     "output_type": "execute_result"
    }
   ],
   "source": [
    "num_of_people_passed_this_stage"
   ]
  },
  {
   "cell_type": "code",
   "execution_count": null,
   "metadata": {},
   "outputs": [],
   "source": []
  }
 ],
 "metadata": {
  "kernelspec": {
   "display_name": "Python 3",
   "language": "python",
   "name": "python3"
  },
  "language_info": {
   "codemirror_mode": {
    "name": "ipython",
    "version": 3
   },
   "file_extension": ".py",
   "mimetype": "text/x-python",
   "name": "python",
   "nbconvert_exporter": "python",
   "pygments_lexer": "ipython3",
   "version": "3.6.5"
  }
 },
 "nbformat": 4,
 "nbformat_minor": 2
}
